{
 "cells": [
  {
   "cell_type": "code",
   "execution_count": 36,
   "metadata": {
    "collapsed": false
   },
   "outputs": [
    {
     "name": "stdout",
     "output_type": "stream",
     "text": [
      "        id   key          value\n",
      "0  1251147    品牌          Apple\n",
      "1  1251147  商品名称  苹果iPad mini 3\n",
      "2  1251147  商品毛重         0.61kg\n",
      "3  1251147  商品产地             中国\n",
      "4  1251147    品牌          Apple\n",
      "5  1251147  商品名称  苹果iPad mini 3\n",
      "6  1251147    硬盘           128G\n",
      "7  1251147    尺寸      7.8英寸-9英寸\n",
      "\n",
      "\n",
      "        id   key          value\n",
      "0  1251147    品牌          Apple\n",
      "1  1251147  商品名称  苹果iPad mini 3\n",
      "2  1251147  商品毛重         0.61kg\n",
      "3  1251147  商品产地             中国\n",
      "6  1251147    硬盘           128G\n",
      "7  1251147    尺寸      7.8英寸-9英寸\n"
     ]
    }
   ],
   "source": [
    "# drop_duplicates() # 行相同的数据保留一行\n",
    "from pandas import read_csv\n",
    "df = read_csv('./data.csv')\n",
    "new_df = df.drop_duplicates()\n",
    "print(df,end='\\n\\n\\n')\n",
    "print(new_df)"
   ]
  },
  {
   "cell_type": "code",
   "execution_count": 12,
   "metadata": {
    "collapsed": true
   },
   "outputs": [],
   "source": [
    "# 缺失值产生\n",
    "# 1. 有些信息暂时无法获取\n",
    "# 2. 有些信息被遗漏或被错误处理\n",
    "\n",
    "# 缺失值处理方式\n",
    "# 1. 数据补齐\n",
    "# 2. 删除对应缺失行\n",
    "# 3. 不处理"
   ]
  },
  {
   "cell_type": "code",
   "execution_count": 14,
   "metadata": {
    "collapsed": false
   },
   "outputs": [
    {
     "name": "stdout",
     "output_type": "stream",
     "text": [
      "        id   key          value\n",
      "0  1251147    品牌          Apple\n",
      "1  1251147  商品名称  苹果iPad mini 3\n",
      "2  1251147  商品毛重            NaN\n",
      "3  1251147   NaN             中国\n",
      "4  1251147    硬盘           128G\n",
      "5  1251147    尺寸      7.8英寸-9英寸\n",
      "\n",
      "\n",
      "        id   key          value\n",
      "0  1251147    品牌          Apple\n",
      "1  1251147  商品名称  苹果iPad mini 3\n",
      "4  1251147    硬盘           128G\n",
      "5  1251147    尺寸      7.8英寸-9英寸\n"
     ]
    }
   ],
   "source": [
    "# dropna函数： 去除数据结构中值为空的数据\n",
    "df = read_csv('./del_data.csv')\n",
    "new_df = df.dropna()\n",
    "print(df, end='\\n\\n\\n')\n",
    "print(new_df)"
   ]
  },
  {
   "cell_type": "code",
   "execution_count": 19,
   "metadata": {
    "collapsed": false
   },
   "outputs": [
    {
     "name": "stdout",
     "output_type": "stream",
     "text": [
      "   id        name\n",
      "0   1         KEN\n",
      "1   2      JIMI  \n",
      "2   3        John\n",
      "\n",
      "\n",
      "0     KEN\n",
      "1    JIMI\n",
      "2    John\n",
      "Name: name, dtype: object\n",
      "\n",
      "\n"
     ]
    }
   ],
   "source": [
    "# 空格值处理\n",
    "df = read_csv('./space_data.csv')\n",
    "print(df, end='\\n\\n\\n')\n",
    "new_name = df['name'].str.strip()\n",
    "print(new_name, end='\\n\\n\\n')\n",
    "# df['name'] = new_name"
   ]
  },
  {
   "cell_type": "code",
   "execution_count": null,
   "metadata": {
    "collapsed": true
   },
   "outputs": [],
   "source": [
    "# 字段抽取， 根据已知列数据的开始与结束位置，抽取新的列\n",
    "# slice(start, stop)\n"
   ]
  },
  {
   "cell_type": "code",
   "execution_count": 22,
   "metadata": {
    "collapsed": false
   },
   "outputs": [
    {
     "name": "stdout",
     "output_type": "stream",
     "text": [
      "           tel\n",
      "0  18922254812\n",
      "1  13522255003\n",
      "2  13422259938\n",
      "3  18822256753\n",
      "4  18922253721\n",
      "5  13422259313\n",
      "6  13822254373\n",
      "7  13322252452\n",
      "8  18922257681\n",
      "\n",
      "0    189\n",
      "1    135\n",
      "2    134\n",
      "3    188\n",
      "4    189\n",
      "5    134\n",
      "6    138\n",
      "7    133\n",
      "8    189\n",
      "Name: tel, dtype: object\n",
      "0    2225\n",
      "1    2225\n",
      "2    2225\n",
      "3    2225\n",
      "4    2225\n",
      "5    2225\n",
      "6    2225\n",
      "7    2225\n",
      "8    2225\n",
      "Name: tel, dtype: object\n",
      "0    4812\n",
      "1    5003\n",
      "2    9938\n",
      "3    6753\n",
      "4    3721\n",
      "5    9313\n",
      "6    4373\n",
      "7    2452\n",
      "8    7681\n",
      "Name: tel, dtype: object\n"
     ]
    }
   ],
   "source": [
    "df = read_csv('./slice_data.csv')\n",
    "print(df, end='\\n\\n')\n",
    "df['tel'] = df['tel'].astype(str) # 将tel列转化为string类型\n",
    "# 运营商\n",
    "brands = df['tel'].str.slice(0, 3)\n",
    "print(brands)\n",
    "# 地区\n",
    "areas = df['tel'].str.slice(3, 7)\n",
    "print(areas)\n",
    "# 号码段\n",
    "nums = df['tel'].str.slice(7, 11)\n",
    "print(nums)"
   ]
  },
  {
   "cell_type": "code",
   "execution_count": 27,
   "metadata": {
    "collapsed": false
   },
   "outputs": [
    {
     "name": "stdout",
     "output_type": "stream",
     "text": [
      "                                                name\n",
      "0  Apple iPad mini MF432CH/A 7.9英寸平板电脑 （16G WiFi版...\n",
      "1       华为 MediaPad 7Vogue S7-601c（8G) 7英寸通话平板电脑-电信版\n",
      "2  昂达（ONDA） V975m四核 2G主频最强A9四核 八核GPU 2G内存 16G 204...\n",
      "3  昂达（ONDA） V975四核 （9.7英寸 A31四核八显 32G 2048*1536视网...\n",
      "4           华为（HUAWEI） 荣耀X1 7英寸（月光银）3G通话平板 WCDMA/GSM\n",
      "5  酷比魔方（CUBE） TALK7X四核 7.0英寸平板电脑（MTK8382 IPS全视角屏 ...\n",
      "6      惠普（HP） Slate 7 3G通话平板（双卡双待7英寸  四核  IPS 超清炫屏 ）\n",
      "7  酷比魔方（ACUBE) TALK97 9.7英寸平板电脑（MTK8382 IPS大猩猩屏 3...\n",
      "8  三星（SAMSUNG） GALAXY NotePro P901 12.2寸平板电脑 （双四核...\n",
      "9  宏碁（acer） P3-131-21292G06as 11.6英寸变形触控本 （奔腾2129...\n",
      "\n",
      "\n",
      "             0                                                  1\n",
      "0        Apple    iPad mini MF432CH/A 7.9英寸平板电脑 （16G WiFi版）深空灰定制版\n",
      "1           华为          MediaPad 7Vogue S7-601c（8G) 7英寸通话平板电脑-电信版\n",
      "2     昂达（ONDA）  V975m四核 2G主频最强A9四核 八核GPU 2G内存 16G 2048*1536视网膜...\n",
      "3     昂达（ONDA）  V975四核 （9.7英寸 A31四核八显 32G 2048*1536视网膜屏 前后双置高清...\n",
      "4   华为（HUAWEI）                      荣耀X1 7英寸（月光银）3G通话平板 WCDMA/GSM\n",
      "5   酷比魔方（CUBE）  TALK7X四核 7.0英寸平板电脑（MTK8382 IPS全视角屏 3G通话 1G/8G ...\n",
      "6       惠普（HP）             Slate 7 3G通话平板（双卡双待7英寸  四核  IPS 超清炫屏 ）\n",
      "7  酷比魔方（ACUBE)  TALK97 9.7英寸平板电脑（MTK8382 IPS大猩猩屏 3G通话 1G/8G 后置...\n",
      "8  三星（SAMSUNG）  GALAXY NotePro P901 12.2寸平板电脑 （双四核1.9+1.3GHz 3...\n",
      "9     宏碁（acer）  P3-131-21292G06as 11.6英寸变形触控本 （奔腾2129Y 2G 60GS...\n",
      "\n",
      "\n",
      "          band                                               name\n",
      "0        Apple    iPad mini MF432CH/A 7.9英寸平板电脑 （16G WiFi版）深空灰定制版\n",
      "1           华为          MediaPad 7Vogue S7-601c（8G) 7英寸通话平板电脑-电信版\n",
      "2     昂达（ONDA）  V975m四核 2G主频最强A9四核 八核GPU 2G内存 16G 2048*1536视网膜...\n",
      "3     昂达（ONDA）  V975四核 （9.7英寸 A31四核八显 32G 2048*1536视网膜屏 前后双置高清...\n",
      "4   华为（HUAWEI）                      荣耀X1 7英寸（月光银）3G通话平板 WCDMA/GSM\n",
      "5   酷比魔方（CUBE）  TALK7X四核 7.0英寸平板电脑（MTK8382 IPS全视角屏 3G通话 1G/8G ...\n",
      "6       惠普（HP）             Slate 7 3G通话平板（双卡双待7英寸  四核  IPS 超清炫屏 ）\n",
      "7  酷比魔方（ACUBE)  TALK97 9.7英寸平板电脑（MTK8382 IPS大猩猩屏 3G通话 1G/8G 后置...\n",
      "8  三星（SAMSUNG）  GALAXY NotePro P901 12.2寸平板电脑 （双四核1.9+1.3GHz 3...\n",
      "9     宏碁（acer）  P3-131-21292G06as 11.6英寸变形触控本 （奔腾2129Y 2G 60GS...\n"
     ]
    }
   ],
   "source": [
    "# 字段拆分， 按照固定的字符，拆分已有的字符串\n",
    "# split(sep, n, expand=False)\n",
    "df = read_csv('./split_data.csv')\n",
    "print(df, end='\\n\\n\\n')\n",
    "newDF = df['name'].str.split(' ', 1, True)\n",
    "print(newDF, end='\\n\\n\\n')\n",
    "newDF.columns = ['band', 'name']  # 设置列名\n",
    "print(newDF)"
   ]
  },
  {
   "cell_type": "code",
   "execution_count": 42,
   "metadata": {
    "collapsed": false
   },
   "outputs": [
    {
     "data": {
      "text/html": [
       "<div>\n",
       "<table border=\"1\" class=\"dataframe\">\n",
       "  <thead>\n",
       "    <tr style=\"text-align: right;\">\n",
       "      <th></th>\n",
       "      <th>id</th>\n",
       "      <th>comments</th>\n",
       "      <th>title</th>\n",
       "    </tr>\n",
       "  </thead>\n",
       "  <tbody>\n",
       "    <tr>\n",
       "      <th>0</th>\n",
       "      <td>1197453</td>\n",
       "      <td>10071</td>\n",
       "      <td>华为（HUAWEI）荣耀平板 Wifi版 8英寸平板电脑（高通骁龙四核 1280×800 1...</td>\n",
       "    </tr>\n",
       "    <tr>\n",
       "      <th>1</th>\n",
       "      <td>1192330</td>\n",
       "      <td>6879</td>\n",
       "      <td>小米（MI）7.9英寸平板 WIFI 64GB（NVIDIA Tegra K1 2.2GHz...</td>\n",
       "    </tr>\n",
       "    <tr>\n",
       "      <th>2</th>\n",
       "      <td>1225995</td>\n",
       "      <td>2218</td>\n",
       "      <td>小米（MI）7.9英寸平板 WIFI 16GB（NVIDIA Tegra K1 2.2GHz...</td>\n",
       "    </tr>\n",
       "    <tr>\n",
       "      <th>3</th>\n",
       "      <td>1308557</td>\n",
       "      <td>1605</td>\n",
       "      <td>华为（HUAWEI）荣耀平板优享版 Wifi 8英寸平板电脑（高通骁龙 64位四核1280×...</td>\n",
       "    </tr>\n",
       "    <tr>\n",
       "      <th>4</th>\n",
       "      <td>1185287</td>\n",
       "      <td>836</td>\n",
       "      <td>微软（Microsoft） Surface Pro 3（中文版 Intel i5 128G存...</td>\n",
       "    </tr>\n",
       "    <tr>\n",
       "      <th>5</th>\n",
       "      <td>1197789</td>\n",
       "      <td>2084</td>\n",
       "      <td>NaN</td>\n",
       "    </tr>\n",
       "    <tr>\n",
       "      <th>6</th>\n",
       "      <td>996957</td>\n",
       "      <td>11123</td>\n",
       "      <td>Apple iPad Air MD785CH 9.7英寸平板电脑 （16G WiFi版）深空灰色</td>\n",
       "    </tr>\n",
       "    <tr>\n",
       "      <th>7</th>\n",
       "      <td>1150612</td>\n",
       "      <td>5857</td>\n",
       "      <td>台电（Teclast） P98 3G八核 9.7英寸平板电脑(MTK8392 Air视网膜屏...</td>\n",
       "    </tr>\n",
       "    <tr>\n",
       "      <th>8</th>\n",
       "      <td>1285329</td>\n",
       "      <td>2482</td>\n",
       "      <td>台电（Teclast）X98 Air 3G 双系统版 9.7英寸平板电脑(正版Win8+安卓...</td>\n",
       "    </tr>\n",
       "  </tbody>\n",
       "</table>\n",
       "</div>"
      ],
      "text/plain": [
       "        id  comments                                              title\n",
       "0  1197453     10071  华为（HUAWEI）荣耀平板 Wifi版 8英寸平板电脑（高通骁龙四核 1280×800 1...\n",
       "1  1192330      6879  小米（MI）7.9英寸平板 WIFI 64GB（NVIDIA Tegra K1 2.2GHz...\n",
       "2  1225995      2218  小米（MI）7.9英寸平板 WIFI 16GB（NVIDIA Tegra K1 2.2GHz...\n",
       "3  1308557      1605  华为（HUAWEI）荣耀平板优享版 Wifi 8英寸平板电脑（高通骁龙 64位四核1280×...\n",
       "4  1185287       836  微软（Microsoft） Surface Pro 3（中文版 Intel i5 128G存...\n",
       "5  1197789      2084                                                NaN\n",
       "6   996957     11123   Apple iPad Air MD785CH 9.7英寸平板电脑 （16G WiFi版）深空灰色\n",
       "7  1150612      5857  台电（Teclast） P98 3G八核 9.7英寸平板电脑(MTK8392 Air视网膜屏...\n",
       "8  1285329      2482  台电（Teclast）X98 Air 3G 双系统版 9.7英寸平板电脑(正版Win8+安卓..."
      ]
     },
     "execution_count": 42,
     "metadata": {},
     "output_type": "execute_result"
    }
   ],
   "source": [
    "# 记录抽取\n",
    "# 比较运算\n",
    "# 范围运算 between(left, right)\n",
    "# 空值匹配 pandas.isnull(column) eg:df[pandas.isnull(df.title)]\n",
    "# 字符匹配  str.contains(patten, na=False) eg:df[pandas.contain('aaa', na=False)]\n",
    "# 逻辑运算  & | not\n",
    "df = read_csv('./record_data.csv', sep=\"|\")\n",
    "df"
   ]
  },
  {
   "cell_type": "code",
   "execution_count": 31,
   "metadata": {
    "collapsed": false
   },
   "outputs": [
    {
     "data": {
      "text/html": [
       "<div>\n",
       "<table border=\"1\" class=\"dataframe\">\n",
       "  <thead>\n",
       "    <tr style=\"text-align: right;\">\n",
       "      <th></th>\n",
       "      <th>id</th>\n",
       "      <th>comments</th>\n",
       "      <th>title</th>\n",
       "    </tr>\n",
       "  </thead>\n",
       "  <tbody>\n",
       "    <tr>\n",
       "      <th>0</th>\n",
       "      <td>1197453</td>\n",
       "      <td>10071</td>\n",
       "      <td>华为（HUAWEI）荣耀平板 Wifi版 8英寸平板电脑（高通骁龙四核 1280×800 1...</td>\n",
       "    </tr>\n",
       "    <tr>\n",
       "      <th>6</th>\n",
       "      <td>996957</td>\n",
       "      <td>11123</td>\n",
       "      <td>Apple iPad Air MD785CH 9.7英寸平板电脑 （16G WiFi版）深空灰色</td>\n",
       "    </tr>\n",
       "  </tbody>\n",
       "</table>\n",
       "</div>"
      ],
      "text/plain": [
       "        id  comments                                              title\n",
       "0  1197453     10071  华为（HUAWEI）荣耀平板 Wifi版 8英寸平板电脑（高通骁龙四核 1280×800 1...\n",
       "6   996957     11123   Apple iPad Air MD785CH 9.7英寸平板电脑 （16G WiFi版）深空灰色"
      ]
     },
     "execution_count": 31,
     "metadata": {},
     "output_type": "execute_result"
    }
   ],
   "source": [
    "df[df.comments>10000]"
   ]
  },
  {
   "cell_type": "code",
   "execution_count": 43,
   "metadata": {
    "collapsed": false
   },
   "outputs": [
    {
     "data": {
      "text/html": [
       "<div>\n",
       "<table border=\"1\" class=\"dataframe\">\n",
       "  <thead>\n",
       "    <tr style=\"text-align: right;\">\n",
       "      <th></th>\n",
       "      <th>id</th>\n",
       "      <th>comments</th>\n",
       "      <th>title</th>\n",
       "    </tr>\n",
       "  </thead>\n",
       "  <tbody>\n",
       "    <tr>\n",
       "      <th>1</th>\n",
       "      <td>1192330</td>\n",
       "      <td>6879</td>\n",
       "      <td>小米（MI）7.9英寸平板 WIFI 64GB（NVIDIA Tegra K1 2.2GHz...</td>\n",
       "    </tr>\n",
       "    <tr>\n",
       "      <th>2</th>\n",
       "      <td>1225995</td>\n",
       "      <td>2218</td>\n",
       "      <td>小米（MI）7.9英寸平板 WIFI 16GB（NVIDIA Tegra K1 2.2GHz...</td>\n",
       "    </tr>\n",
       "    <tr>\n",
       "      <th>3</th>\n",
       "      <td>1308557</td>\n",
       "      <td>1605</td>\n",
       "      <td>华为（HUAWEI）荣耀平板优享版 Wifi 8英寸平板电脑（高通骁龙 64位四核1280×...</td>\n",
       "    </tr>\n",
       "    <tr>\n",
       "      <th>5</th>\n",
       "      <td>1197789</td>\n",
       "      <td>2084</td>\n",
       "      <td>NaN</td>\n",
       "    </tr>\n",
       "    <tr>\n",
       "      <th>7</th>\n",
       "      <td>1150612</td>\n",
       "      <td>5857</td>\n",
       "      <td>台电（Teclast） P98 3G八核 9.7英寸平板电脑(MTK8392 Air视网膜屏...</td>\n",
       "    </tr>\n",
       "    <tr>\n",
       "      <th>8</th>\n",
       "      <td>1285329</td>\n",
       "      <td>2482</td>\n",
       "      <td>台电（Teclast）X98 Air 3G 双系统版 9.7英寸平板电脑(正版Win8+安卓...</td>\n",
       "    </tr>\n",
       "  </tbody>\n",
       "</table>\n",
       "</div>"
      ],
      "text/plain": [
       "        id  comments                                              title\n",
       "1  1192330      6879  小米（MI）7.9英寸平板 WIFI 64GB（NVIDIA Tegra K1 2.2GHz...\n",
       "2  1225995      2218  小米（MI）7.9英寸平板 WIFI 16GB（NVIDIA Tegra K1 2.2GHz...\n",
       "3  1308557      1605  华为（HUAWEI）荣耀平板优享版 Wifi 8英寸平板电脑（高通骁龙 64位四核1280×...\n",
       "5  1197789      2084                                                NaN\n",
       "7  1150612      5857  台电（Teclast） P98 3G八核 9.7英寸平板电脑(MTK8392 Air视网膜屏...\n",
       "8  1285329      2482  台电（Teclast）X98 Air 3G 双系统版 9.7英寸平板电脑(正版Win8+安卓..."
      ]
     },
     "execution_count": 43,
     "metadata": {},
     "output_type": "execute_result"
    }
   ],
   "source": [
    "df[df.comments.between(1000,10000)]\n"
   ]
  },
  {
   "cell_type": "code",
   "execution_count": 45,
   "metadata": {
    "collapsed": false
   },
   "outputs": [
    {
     "data": {
      "text/html": [
       "<div>\n",
       "<table border=\"1\" class=\"dataframe\">\n",
       "  <thead>\n",
       "    <tr style=\"text-align: right;\">\n",
       "      <th></th>\n",
       "      <th>id</th>\n",
       "      <th>comments</th>\n",
       "      <th>title</th>\n",
       "    </tr>\n",
       "  </thead>\n",
       "  <tbody>\n",
       "    <tr>\n",
       "      <th>5</th>\n",
       "      <td>1197789</td>\n",
       "      <td>2084</td>\n",
       "      <td>NaN</td>\n",
       "    </tr>\n",
       "  </tbody>\n",
       "</table>\n",
       "</div>"
      ],
      "text/plain": [
       "        id  comments title\n",
       "5  1197789      2084   NaN"
      ]
     },
     "execution_count": 45,
     "metadata": {},
     "output_type": "execute_result"
    }
   ],
   "source": [
    "import pandas\n",
    "df[pandas.isnull(df.title)]"
   ]
  },
  {
   "cell_type": "code",
   "execution_count": 46,
   "metadata": {
    "collapsed": false
   },
   "outputs": [
    {
     "data": {
      "text/html": [
       "<div>\n",
       "<table border=\"1\" class=\"dataframe\">\n",
       "  <thead>\n",
       "    <tr style=\"text-align: right;\">\n",
       "      <th></th>\n",
       "      <th>id</th>\n",
       "      <th>comments</th>\n",
       "      <th>title</th>\n",
       "    </tr>\n",
       "  </thead>\n",
       "  <tbody>\n",
       "    <tr>\n",
       "      <th>0</th>\n",
       "      <td>1197453</td>\n",
       "      <td>10071</td>\n",
       "      <td>华为（HUAWEI）荣耀平板 Wifi版 8英寸平板电脑（高通骁龙四核 1280×800 1...</td>\n",
       "    </tr>\n",
       "    <tr>\n",
       "      <th>3</th>\n",
       "      <td>1308557</td>\n",
       "      <td>1605</td>\n",
       "      <td>华为（HUAWEI）荣耀平板优享版 Wifi 8英寸平板电脑（高通骁龙 64位四核1280×...</td>\n",
       "    </tr>\n",
       "  </tbody>\n",
       "</table>\n",
       "</div>"
      ],
      "text/plain": [
       "        id  comments                                              title\n",
       "0  1197453     10071  华为（HUAWEI）荣耀平板 Wifi版 8英寸平板电脑（高通骁龙四核 1280×800 1...\n",
       "3  1308557      1605  华为（HUAWEI）荣耀平板优享版 Wifi 8英寸平板电脑（高通骁龙 64位四核1280×..."
      ]
     },
     "execution_count": 46,
     "metadata": {},
     "output_type": "execute_result"
    }
   ],
   "source": [
    "df[df.title.str.contains('华为', na=False)]"
   ]
  },
  {
   "cell_type": "code",
   "execution_count": 47,
   "metadata": {
    "collapsed": false
   },
   "outputs": [
    {
     "data": {
      "text/html": [
       "<div>\n",
       "<table border=\"1\" class=\"dataframe\">\n",
       "  <thead>\n",
       "    <tr style=\"text-align: right;\">\n",
       "      <th></th>\n",
       "      <th>id</th>\n",
       "      <th>comments</th>\n",
       "      <th>title</th>\n",
       "    </tr>\n",
       "  </thead>\n",
       "  <tbody>\n",
       "    <tr>\n",
       "      <th>1</th>\n",
       "      <td>1192330</td>\n",
       "      <td>6879</td>\n",
       "      <td>小米（MI）7.9英寸平板 WIFI 64GB（NVIDIA Tegra K1 2.2GHz...</td>\n",
       "    </tr>\n",
       "    <tr>\n",
       "      <th>2</th>\n",
       "      <td>1225995</td>\n",
       "      <td>2218</td>\n",
       "      <td>小米（MI）7.9英寸平板 WIFI 16GB（NVIDIA Tegra K1 2.2GHz...</td>\n",
       "    </tr>\n",
       "    <tr>\n",
       "      <th>3</th>\n",
       "      <td>1308557</td>\n",
       "      <td>1605</td>\n",
       "      <td>华为（HUAWEI）荣耀平板优享版 Wifi 8英寸平板电脑（高通骁龙 64位四核1280×...</td>\n",
       "    </tr>\n",
       "    <tr>\n",
       "      <th>5</th>\n",
       "      <td>1197789</td>\n",
       "      <td>2084</td>\n",
       "      <td>NaN</td>\n",
       "    </tr>\n",
       "    <tr>\n",
       "      <th>7</th>\n",
       "      <td>1150612</td>\n",
       "      <td>5857</td>\n",
       "      <td>台电（Teclast） P98 3G八核 9.7英寸平板电脑(MTK8392 Air视网膜屏...</td>\n",
       "    </tr>\n",
       "    <tr>\n",
       "      <th>8</th>\n",
       "      <td>1285329</td>\n",
       "      <td>2482</td>\n",
       "      <td>台电（Teclast）X98 Air 3G 双系统版 9.7英寸平板电脑(正版Win8+安卓...</td>\n",
       "    </tr>\n",
       "  </tbody>\n",
       "</table>\n",
       "</div>"
      ],
      "text/plain": [
       "        id  comments                                              title\n",
       "1  1192330      6879  小米（MI）7.9英寸平板 WIFI 64GB（NVIDIA Tegra K1 2.2GHz...\n",
       "2  1225995      2218  小米（MI）7.9英寸平板 WIFI 16GB（NVIDIA Tegra K1 2.2GHz...\n",
       "3  1308557      1605  华为（HUAWEI）荣耀平板优享版 Wifi 8英寸平板电脑（高通骁龙 64位四核1280×...\n",
       "5  1197789      2084                                                NaN\n",
       "7  1150612      5857  台电（Teclast） P98 3G八核 9.7英寸平板电脑(MTK8392 Air视网膜屏...\n",
       "8  1285329      2482  台电（Teclast）X98 Air 3G 双系统版 9.7英寸平板电脑(正版Win8+安卓..."
      ]
     },
     "execution_count": 47,
     "metadata": {},
     "output_type": "execute_result"
    }
   ],
   "source": [
    "df[(df.comments>=1000) & (df.comments<=10000)]"
   ]
  },
  {
   "cell_type": "code",
   "execution_count": 49,
   "metadata": {
    "collapsed": false
   },
   "outputs": [
    {
     "data": {
      "text/html": [
       "<div>\n",
       "<table border=\"1\" class=\"dataframe\">\n",
       "  <thead>\n",
       "    <tr style=\"text-align: right;\">\n",
       "      <th></th>\n",
       "      <th>num</th>\n",
       "    </tr>\n",
       "  </thead>\n",
       "  <tbody>\n",
       "    <tr>\n",
       "      <th>0</th>\n",
       "      <td>10</td>\n",
       "    </tr>\n",
       "    <tr>\n",
       "      <th>1</th>\n",
       "      <td>20</td>\n",
       "    </tr>\n",
       "    <tr>\n",
       "      <th>2</th>\n",
       "      <td>30</td>\n",
       "    </tr>\n",
       "    <tr>\n",
       "      <th>3</th>\n",
       "      <td>40</td>\n",
       "    </tr>\n",
       "    <tr>\n",
       "      <th>4</th>\n",
       "      <td>50</td>\n",
       "    </tr>\n",
       "    <tr>\n",
       "      <th>5</th>\n",
       "      <td>60</td>\n",
       "    </tr>\n",
       "    <tr>\n",
       "      <th>6</th>\n",
       "      <td>70</td>\n",
       "    </tr>\n",
       "    <tr>\n",
       "      <th>7</th>\n",
       "      <td>80</td>\n",
       "    </tr>\n",
       "    <tr>\n",
       "      <th>8</th>\n",
       "      <td>90</td>\n",
       "    </tr>\n",
       "    <tr>\n",
       "      <th>9</th>\n",
       "      <td>100</td>\n",
       "    </tr>\n",
       "  </tbody>\n",
       "</table>\n",
       "</div>"
      ],
      "text/plain": [
       "   num\n",
       "0   10\n",
       "1   20\n",
       "2   30\n",
       "3   40\n",
       "4   50\n",
       "5   60\n",
       "6   70\n",
       "7   80\n",
       "8   90\n",
       "9  100"
      ]
     },
     "execution_count": 49,
     "metadata": {},
     "output_type": "execute_result"
    }
   ],
   "source": [
    "# 随机抽样\n",
    "df = read_csv('./numpy_data.csv')\n",
    "df"
   ]
  },
  {
   "cell_type": "code",
   "execution_count": 52,
   "metadata": {
    "collapsed": false
   },
   "outputs": [
    {
     "data": {
      "text/html": [
       "<div>\n",
       "<table border=\"1\" class=\"dataframe\">\n",
       "  <thead>\n",
       "    <tr style=\"text-align: right;\">\n",
       "      <th></th>\n",
       "      <th>num</th>\n",
       "    </tr>\n",
       "  </thead>\n",
       "  <tbody>\n",
       "    <tr>\n",
       "      <th>6</th>\n",
       "      <td>70</td>\n",
       "    </tr>\n",
       "    <tr>\n",
       "      <th>1</th>\n",
       "      <td>20</td>\n",
       "    </tr>\n",
       "    <tr>\n",
       "      <th>9</th>\n",
       "      <td>100</td>\n",
       "    </tr>\n",
       "  </tbody>\n",
       "</table>\n",
       "</div>"
      ],
      "text/plain": [
       "   num\n",
       "6   70\n",
       "1   20\n",
       "9  100"
      ]
     },
     "execution_count": 52,
     "metadata": {},
     "output_type": "execute_result"
    }
   ],
   "source": [
    "import numpy\n",
    "r = numpy.random.randint(0, 10, 3)\n",
    "df.loc[r, :]"
   ]
  },
  {
   "cell_type": "code",
   "execution_count": null,
   "metadata": {
    "collapsed": true
   },
   "outputs": [],
   "source": []
  }
 ],
 "metadata": {
  "kernelspec": {
   "display_name": "Python [default]",
   "language": "python",
   "name": "python3"
  },
  "language_info": {
   "codemirror_mode": {
    "name": "ipython",
    "version": 3
   },
   "file_extension": ".py",
   "mimetype": "text/x-python",
   "name": "python",
   "nbconvert_exporter": "python",
   "pygments_lexer": "ipython3",
   "version": "3.5.2"
  }
 },
 "nbformat": 4,
 "nbformat_minor": 1
}
