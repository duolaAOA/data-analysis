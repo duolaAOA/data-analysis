{
 "cells": [
  {
   "cell_type": "code",
   "execution_count": 1,
   "metadata": {
    "collapsed": false
   },
   "outputs": [
    {
     "name": "stdout",
     "output_type": "stream",
     "text": [
      "  age  name\n",
      "0  23   KEN\n",
      "1  32  John\n",
      "2  25  JIMI\n",
      "3  中文    英文\n"
     ]
    }
   ],
   "source": [
    "import pandas as pd\n",
    "df = pd.read_csv('./1.csv', encoding='utf8')\n",
    "print(df)"
   ]
  },
  {
   "cell_type": "code",
   "execution_count": 2,
   "metadata": {
    "collapsed": false
   },
   "outputs": [
    {
     "name": "stdout",
     "output_type": "stream",
     "text": [
      "  age  name\n",
      "0  23   KEN\n",
      "1  32  John\n",
      "2  25  JIMI\n",
      "3  中文    英文\n"
     ]
    }
   ],
   "source": [
    "# read_table(file, names=[列名1， 列名2, ...], sep=\"\", encoding, ...) \n",
    "import pandas as pd\n",
    "df = pd.read_table('./2.txt', names=['age', 'name'], sep=',')\n",
    "print(df)"
   ]
  },
  {
   "cell_type": "code",
   "execution_count": 7,
   "metadata": {
    "collapsed": false
   },
   "outputs": [
    {
     "name": "stdout",
     "output_type": "stream",
     "text": [
      "   age  name\n",
      "0   23   KEN\n",
      "1   32  John\n",
      "2   25  JIMI\n"
     ]
    }
   ],
   "source": [
    "# read_excel\n",
    "df = pd.read_excel('./3.xlsx', sheetname='data')\n",
    "print(df)"
   ]
  },
  {
   "cell_type": "code",
   "execution_count": 11,
   "metadata": {
    "collapsed": false
   },
   "outputs": [],
   "source": [
    "# 导出文本文件 to_csv()\n",
    "df = pd.DataFrame({'age': [21,22,23], 'name':['kin', 'jio','jii']})\n",
    "df.to_csv('./df.csv')   # 导出保存\n",
    "df.to_csv('./df_noindex.csv', index=False) # 去掉默认行参数"
   ]
  },
  {
   "cell_type": "code",
   "execution_count": null,
   "metadata": {
    "collapsed": true
   },
   "outputs": [],
   "source": []
  },
  {
   "cell_type": "code",
   "execution_count": null,
   "metadata": {
    "collapsed": true
   },
   "outputs": [],
   "source": []
  }
 ],
 "metadata": {
  "anaconda-cloud": {},
  "kernelspec": {
   "display_name": "Python [default]",
   "language": "python",
   "name": "python3"
  },
  "language_info": {
   "codemirror_mode": {
    "name": "ipython",
    "version": 3
   },
   "file_extension": ".py",
   "mimetype": "text/x-python",
   "name": "python",
   "nbconvert_exporter": "python",
   "pygments_lexer": "ipython3",
   "version": "3.5.2"
  }
 },
 "nbformat": 4,
 "nbformat_minor": 1
}
