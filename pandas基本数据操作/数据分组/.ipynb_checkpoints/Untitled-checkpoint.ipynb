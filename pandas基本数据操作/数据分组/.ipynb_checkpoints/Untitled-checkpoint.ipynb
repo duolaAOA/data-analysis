{
 "cells": [
  {
   "cell_type": "code",
   "execution_count": 1,
   "metadata": {
    "collapsed": true
   },
   "outputs": [],
   "source": [
    "# 根据数据分析对象的特征， 按照一定的数值标准指示， 把数据分析对象划分为不同的区间部分\n",
    "# 来进行研究，以揭示其内在的联系和规律性\n",
    "# cut(series, bins, right=True, labels=NULL)\n",
    "# 分别为需要分组的数据， 分组的划分数组， 分组的时候右边是否闭合， 分组自定义标签，可以为NULL"
   ]
  },
  {
   "cell_type": "code",
   "execution_count": 2,
   "metadata": {
    "collapsed": false
   },
   "outputs": [
    {
     "data": {
      "text/html": [
       "<div>\n",
       "<table border=\"1\" class=\"dataframe\">\n",
       "  <thead>\n",
       "    <tr style=\"text-align: right;\">\n",
       "      <th></th>\n",
       "      <th>tel</th>\n",
       "      <th>cost</th>\n",
       "    </tr>\n",
       "  </thead>\n",
       "  <tbody>\n",
       "    <tr>\n",
       "      <th>0</th>\n",
       "      <td>166424556600</td>\n",
       "      <td>2.0</td>\n",
       "    </tr>\n",
       "    <tr>\n",
       "      <th>1</th>\n",
       "      <td>166424557199</td>\n",
       "      <td>5.0</td>\n",
       "    </tr>\n",
       "    <tr>\n",
       "      <th>2</th>\n",
       "      <td>166424561768</td>\n",
       "      <td>75.3</td>\n",
       "    </tr>\n",
       "    <tr>\n",
       "      <th>3</th>\n",
       "      <td>166424569696</td>\n",
       "      <td>20.0</td>\n",
       "    </tr>\n",
       "    <tr>\n",
       "      <th>4</th>\n",
       "      <td>166424569924</td>\n",
       "      <td>97.3</td>\n",
       "    </tr>\n",
       "    <tr>\n",
       "      <th>5</th>\n",
       "      <td>166424579238</td>\n",
       "      <td>3.0</td>\n",
       "    </tr>\n",
       "    <tr>\n",
       "      <th>6</th>\n",
       "      <td>166424581334</td>\n",
       "      <td>100.0</td>\n",
       "    </tr>\n",
       "    <tr>\n",
       "      <th>7</th>\n",
       "      <td>166424589730</td>\n",
       "      <td>77.0</td>\n",
       "    </tr>\n",
       "    <tr>\n",
       "      <th>8</th>\n",
       "      <td>166424591167</td>\n",
       "      <td>5.5</td>\n",
       "    </tr>\n",
       "    <tr>\n",
       "      <th>9</th>\n",
       "      <td>166424598020</td>\n",
       "      <td>50.0</td>\n",
       "    </tr>\n",
       "    <tr>\n",
       "      <th>10</th>\n",
       "      <td>166424598259</td>\n",
       "      <td>28.6</td>\n",
       "    </tr>\n",
       "    <tr>\n",
       "      <th>11</th>\n",
       "      <td>166424606270</td>\n",
       "      <td>10.8</td>\n",
       "    </tr>\n",
       "    <tr>\n",
       "      <th>12</th>\n",
       "      <td>166424632819</td>\n",
       "      <td>76.7</td>\n",
       "    </tr>\n",
       "    <tr>\n",
       "      <th>13</th>\n",
       "      <td>166424635250</td>\n",
       "      <td>84.6</td>\n",
       "    </tr>\n",
       "    <tr>\n",
       "      <th>14</th>\n",
       "      <td>166424641824</td>\n",
       "      <td>10.0</td>\n",
       "    </tr>\n",
       "  </tbody>\n",
       "</table>\n",
       "</div>"
      ],
      "text/plain": [
       "             tel   cost\n",
       "0   166424556600    2.0\n",
       "1   166424557199    5.0\n",
       "2   166424561768   75.3\n",
       "3   166424569696   20.0\n",
       "4   166424569924   97.3\n",
       "5   166424579238    3.0\n",
       "6   166424581334  100.0\n",
       "7   166424589730   77.0\n",
       "8   166424591167    5.5\n",
       "9   166424598020   50.0\n",
       "10  166424598259   28.6\n",
       "11  166424606270   10.8\n",
       "12  166424632819   76.7\n",
       "13  166424635250   84.6\n",
       "14  166424641824   10.0"
      ]
     },
     "execution_count": 2,
     "metadata": {},
     "output_type": "execute_result"
    }
   ],
   "source": [
    "import pandas;\n",
    "from pandas import read_csv\n",
    "df = read_csv(\".\\data.csv\", sep='|')\n",
    "df"
   ]
  },
  {
   "cell_type": "code",
   "execution_count": 3,
   "metadata": {
    "collapsed": false
   },
   "outputs": [
    {
     "data": {
      "text/plain": [
       "0       (1, 20]\n",
       "1       (1, 20]\n",
       "2      (60, 80]\n",
       "3       (1, 20]\n",
       "4     (80, 100]\n",
       "5       (1, 20]\n",
       "6     (80, 100]\n",
       "7      (60, 80]\n",
       "8       (1, 20]\n",
       "9      (40, 60]\n",
       "10     (20, 40]\n",
       "11      (1, 20]\n",
       "12     (60, 80]\n",
       "13    (80, 100]\n",
       "14      (1, 20]\n",
       "Name: cost, dtype: category\n",
       "Categories (6, object): [(1, 20] < (20, 40] < (40, 60] < (60, 80] < (80, 100] < (100, 101]]"
      ]
     },
     "execution_count": 3,
     "metadata": {},
     "output_type": "execute_result"
    }
   ],
   "source": [
    "bins = [min(df.cost)-1, 20, 40, 60, 80, 100, max(df.cost)+1];\n",
    "\n",
    "labels = ['20以下', '20到40', '40到60', '60到80', '80到100', '100以上']\n",
    "pandas.cut(df.cost, bins)"
   ]
  },
  {
   "cell_type": "code",
   "execution_count": 4,
   "metadata": {
    "collapsed": false
   },
   "outputs": [
    {
     "data": {
      "text/plain": [
       "0        [1, 20)\n",
       "1        [1, 20)\n",
       "2       [60, 80)\n",
       "3       [20, 40)\n",
       "4      [80, 100)\n",
       "5        [1, 20)\n",
       "6     [100, 101)\n",
       "7       [60, 80)\n",
       "8        [1, 20)\n",
       "9       [40, 60)\n",
       "10      [20, 40)\n",
       "11       [1, 20)\n",
       "12      [60, 80)\n",
       "13     [80, 100)\n",
       "14       [1, 20)\n",
       "Name: cost, dtype: category\n",
       "Categories (6, object): [[1, 20) < [20, 40) < [40, 60) < [60, 80) < [80, 100) < [100, 101)]"
      ]
     },
     "execution_count": 4,
     "metadata": {},
     "output_type": "execute_result"
    }
   ],
   "source": [
    "pandas.cut(df.cost, bins, right=False)"
   ]
  },
  {
   "cell_type": "code",
   "execution_count": 5,
   "metadata": {
    "collapsed": false
   },
   "outputs": [
    {
     "data": {
      "text/plain": [
       "0       20以下\n",
       "1       20以下\n",
       "2      60到80\n",
       "3      20到40\n",
       "4     80到100\n",
       "5       20以下\n",
       "6      100以上\n",
       "7      60到80\n",
       "8       20以下\n",
       "9      40到60\n",
       "10     20到40\n",
       "11      20以下\n",
       "12     60到80\n",
       "13    80到100\n",
       "14      20以下\n",
       "Name: cost, dtype: category\n",
       "Categories (6, object): [20以下 < 20到40 < 40到60 < 60到80 < 80到100 < 100以上]"
      ]
     },
     "execution_count": 5,
     "metadata": {},
     "output_type": "execute_result"
    }
   ],
   "source": [
    "pandas.cut(df.cost, bins, right=False, labels=labels)"
   ]
  },
  {
   "cell_type": "code",
   "execution_count": null,
   "metadata": {
    "collapsed": true
   },
   "outputs": [],
   "source": []
  }
 ],
 "metadata": {
  "anaconda-cloud": {},
  "kernelspec": {
   "display_name": "Python [default]",
   "language": "python",
   "name": "python3"
  },
  "language_info": {
   "codemirror_mode": {
    "name": "ipython",
    "version": 3
   },
   "file_extension": ".py",
   "mimetype": "text/x-python",
   "name": "python",
   "nbconvert_exporter": "python",
   "pygments_lexer": "ipython3",
   "version": "3.5.2"
  }
 },
 "nbformat": 4,
 "nbformat_minor": 1
}
